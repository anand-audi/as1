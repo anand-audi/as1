{
 "cells": [
  {
   "cell_type": "code",
   "execution_count": null,
   "metadata": {},
   "outputs": [],
   "source": [
    "# Explain with an example each when to use a for loop and a while loop.\n",
    "\n",
    "\n",
    "\n",
    "for i in range(1, 11):\n",
    "    print(i)\n",
    "\n",
    "var1 = [1, 2, 3, 4, 5, 2, 6, 2]\n",
    "while 2 in var1:\n",
    "    var1.remove(2)\n",
    "print(var1)    \n"
   ]
  },
  {
   "cell_type": "code",
   "execution_count": null,
   "metadata": {},
   "outputs": [],
   "source": [
    "\n",
    "# Write a python program to print the sum and product of the first 10 natural numbers using for\n",
    "# and while loop.\n",
    "\n",
    "var1=range(1,11)\n",
    "sum=0\n",
    "product=1\n",
    "for a in var1:\n",
    "    sum = sum+a\n",
    "    product=product*a\n",
    "print(\"sum is\",sum)\n",
    "print(\"product is\",product)\n",
    "\n",
    "var2=range(1,11)\n",
    "sum2=0\n",
    "product2=1\n",
    "i=1\n",
    "while i<=10:\n",
    "    sum2 = sum2+i\n",
    "    product2=product2*i\n",
    "    i=i+1\n",
    "print(\"sum is\",sum2)\n",
    "print(\"product is\",product2)\n"
   ]
  },
  {
   "cell_type": "code",
   "execution_count": null,
   "metadata": {},
   "outputs": [],
   "source": [
    "# Write a program to filter count vowels in the below-given string.\n",
    "\n",
    "var1 = \"I want to become a data scientist\"\n",
    "vowels='aeiouAEIOU'\n",
    "var3=0\n",
    "for a in var1:\n",
    "    if a in vowels:\n",
    "        var3 = var3+1\n",
    "print (\"total =\", var3)        \n"
   ]
  },
  {
   "cell_type": "code",
   "execution_count": null,
   "metadata": {},
   "outputs": [],
   "source": [
    "# Create a list of numbers from 1 to 100. Use for loop and while loop to calculate the cube of each\n",
    "# number and if the cube of that number is divisible by 4 or 5 then append that number in a list and print\n",
    "# that list.\n",
    "\n",
    "\n",
    "var1 = list(range(1,101))\n",
    "var2 = []\n",
    "for i in var1: \n",
    "    if i%4==0 or i%5==0:\n",
    "        var2.append(i ** 3)\n",
    "print(var2)\n",
    "\n",
    "\n",
    "i=0\n",
    "var3 = list(range(1,101))\n",
    "var4 = []\n",
    "while i < len(var3):\n",
    "    if var3[i]%4==0 or var3[i]%5==0:\n",
    "        var4.append(var3[i] ** 3)\n",
    "    i=i+1\n",
    "print(var4)"
   ]
  },
  {
   "cell_type": "code",
   "execution_count": null,
   "metadata": {},
   "outputs": [],
   "source": [
    "# Create a python program to compute the electricity bill for a household.\n",
    "# The per-unit charges in rupees are as follows: For the first 100 units, the user will be charged Rs. 4.5 per\n",
    "# unit, for the next 100 units, the user will be charged Rs. 6 per unit, and for the next 100 units, the user will\n",
    "# be charged Rs. 10 per unit, After 300 units and above the user will be charged Rs. 20 per unit.\n",
    "# You are required to take the units of electricity consumed in a month from the user as input.\n",
    "# Your program must pass this test case: when the unit of electricity consumed by the user in a month is\n",
    "# 310, the total electricity bill should be 2250.\n",
    "\n",
    "var1 = int(input('enter units'))\n",
    "if var1 <= 100:\n",
    "    var2 = var1*4.5\n",
    "    print(var2)\n",
    "elif var1 <= 200:   \n",
    "    var2 = 100*4.5+(var1-100)*6\n",
    "    print(var2)\n",
    "elif var1 <= 300:   \n",
    "    var2 = 100*4.5+100*6+(var1-200)*10\n",
    "    print(var2)   \n",
    "elif var1 > 300:   \n",
    "    var1 = 100*4.5+100*6+100*10+(var1-300)*20\n",
    "    print(var1) "
   ]
  }
 ],
 "metadata": {
  "kernelspec": {
   "display_name": "Python 3",
   "language": "python",
   "name": "python3"
  },
  "language_info": {
   "codemirror_mode": {
    "name": "ipython",
    "version": 3
   },
   "file_extension": ".py",
   "mimetype": "text/x-python",
   "name": "python",
   "nbconvert_exporter": "python",
   "pygments_lexer": "ipython3",
   "version": "3.10.1"
  },
  "orig_nbformat": 4,
  "vscode": {
   "interpreter": {
    "hash": "26de051ba29f2982a8de78e945f0abaf191376122a1563185a90213a26c5da77"
   }
  }
 },
 "nbformat": 4,
 "nbformat_minor": 2
}
