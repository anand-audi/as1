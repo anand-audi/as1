{
 "cells": [
  {
   "cell_type": "code",
   "execution_count": null,
   "metadata": {},
   "outputs": [],
   "source": [
    "#What is Abstraction in OOps? Explain with an example.\n",
    "#P1=process of handling complexity by hiding unnecessary information from the user\n",
    "#p2=\n",
    "import abc\n",
    "\n",
    "class a1():\n",
    "    @abc.abstractmethod\n",
    "    def baloon(self):\n",
    "        pass\n",
    "    @abc.abstractmethod\n",
    "    def helium(self):\n",
    "        pass\n",
    "class party1(a1):\n",
    "    def baloon(self):\n",
    "        return 'Baloons were enough'\n",
    "    def helium(self):\n",
    "        return 'Helium was enough'\n",
    "class party2(a1):\n",
    "    def helium(self):\n",
    "        return 'Baloons were enough'\n",
    "    def baloon(self):\n",
    "        return 'Helium was insufficient'\n",
    "        \n",
    "var1= party1()\n",
    "var2=party2()\n",
    "print(var1.helium())\n",
    "print(var1.baloon())\n",
    "print(var2.helium())\n",
    "print(var2.baloon())"
   ]
  },
  {
   "cell_type": "code",
   "execution_count": null,
   "metadata": {},
   "outputs": [],
   "source": [
    "#Differentiate between Abstraction and Encapsulation. Explain with an example.\n",
    "#p1= super short-> Binding and Hiding\n",
    "#p2=\n",
    "import abc\n",
    "class a1():\n",
    "    @abc.abstractmethod\n",
    "    def baloon(self):\n",
    "        pass\n",
    "    @abc.abstractmethod\n",
    "    def helium(self):\n",
    "        pass\n",
    "class party1(a1):\n",
    "    def baloon(self):\n",
    "        return 'Baloons were enough'\n",
    "    def helium(self):\n",
    "        return 'Helium was enough'\n",
    "class party2(a1):\n",
    "    def helium(self):\n",
    "        return 'Baloons were enough'\n",
    "    def baloon(self):\n",
    "        return 'Helium was insufficient'\n",
    "var1= party1()\n",
    "var2=party2()\n",
    "print(var1.helium())\n",
    "print(var1.baloon())\n",
    "print(var2.helium())\n",
    "print(var2.baloon())\n",
    "######################################################################\n",
    "class bank():\n",
    "    def __init__(self,balance):\n",
    "        self.__balance=balance    \n",
    "    def deposite(self,amount):\n",
    "        self.__balance += amount    \n",
    "    def withdraw(self,amount):\n",
    "        self.__balance -= amount    \n",
    "    def get_all(self):\n",
    "        return self.__balance\n",
    "account = bank(1000)\n",
    "print(account.get_all())"
   ]
  },
  {
   "cell_type": "code",
   "execution_count": null,
   "metadata": {},
   "outputs": [],
   "source": [
    "#What is abc module in python? Why is it used?\n",
    "#The abc module in Python provides a way to create abstract classes that serve as a blueprint for other classes. It allows you to define rules and requirements for the classes that inherit from the abstract class. This helps ensure that those classes have the necessary methods and functionality that the abstract class expects"
   ]
  },
  {
   "cell_type": "code",
   "execution_count": null,
   "metadata": {},
   "outputs": [],
   "source": [
    "# How can we achieve data abstraction?\n",
    "# by introducing classes"
   ]
  },
  {
   "cell_type": "code",
   "execution_count": null,
   "metadata": {},
   "outputs": [],
   "source": [
    "#Can we create an instance of an abstract class? Explain your answer.\n",
    "#No because an abstract class can only be used as a base class its for blueprint in a project "
   ]
  }
 ],
 "metadata": {
  "kernelspec": {
   "display_name": "Python 3",
   "language": "python",
   "name": "python3"
  },
  "language_info": {
   "codemirror_mode": {
    "name": "ipython",
    "version": 3
   },
   "file_extension": ".py",
   "mimetype": "text/x-python",
   "name": "python",
   "nbconvert_exporter": "python",
   "pygments_lexer": "ipython3",
   "version": "3.9.1"
  }
 },
 "nbformat": 4,
 "nbformat_minor": 4
}
