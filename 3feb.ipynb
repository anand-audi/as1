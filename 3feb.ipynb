{
 "cells": [
  {
   "cell_type": "code",
   "execution_count": null,
   "metadata": {},
   "outputs": [],
   "source": [
    "#Which keyword is used to create a function? Create a function to return a list of odd numbers in the\n",
    "#range of 1 to 25.\n",
    "def hi():\n",
    "\tvar2=[]\n",
    "\tvar1=range(0,26)\n",
    "\tfor i in var1:\n",
    "\t\tif i%2 != 0:\n",
    "\t\t\tvar2.append(i)\n",
    "\tprint(var2)"
   ]
  },
  {
   "cell_type": "code",
   "execution_count": null,
   "metadata": {},
   "outputs": [],
   "source": [
    "#Why *args and **kwargs is used in some functions? Create a function each for *args and **kwargs\n",
    "#to demonstrate their use.\n",
    "def multiply(*args):\n",
    "    var1 = 2\n",
    "    for i in args:\n",
    "        var1 *= i\n",
    "    return var1\n",
    "def hi(**kwargs):\n",
    "    for key, value in kwargs.items():\n",
    "        print(key, value)\n",
    "\n",
    "hi(apple=3, banana=5, orange=2)"
   ]
  },
  {
   "cell_type": "code",
   "execution_count": 25,
   "metadata": {},
   "outputs": [],
   "source": [
    "#What is an iterator in python? Name the method used to initialise the iterator object and the method\n",
    "#used for iteration. Use these methods to print the first five elements of the given list [2, 4, 6, 8, 10, 12, 14,16, 18, 20].\n",
    "#p1=object that can be looped upon\n",
    "#p2= iter(string)->to initialise|next()->used for iteration\n",
    "#p3=\n",
    "def hi():\n",
    "\tvar1=iter([2, 4, 6, 8, 10, 12, 14,16, 18, 20])\n",
    "\ti=1\n",
    "\twhile i <= 5:\n",
    "\t\ti += 1\n",
    "\t\tprint(next(var1))"
   ]
  },
  {
   "cell_type": "code",
   "execution_count": null,
   "metadata": {},
   "outputs": [],
   "source": [
    "#What is a generator function in python? Why yield keyword is used? Give an example of a generator function.\n",
    "#p1=function that can be used to create an iterator.\n",
    "#p2=used to indicate that the function should return a valueb but not terminate completely\n",
    "#p3=\n",
    "def square(n):\n",
    "\tfor i in range(n):\n",
    "\t\tyield i**2\n",
    "for z in square(5):\n",
    "\tprint(z)"
   ]
  },
  {
   "cell_type": "code",
   "execution_count": null,
   "metadata": {},
   "outputs": [],
   "source": [
    "#Create a generator function for prime numbers less than 1000. Use the next() method to print the\n",
    "#first 20 prime numbers.\n",
    "def prime():\n",
    "\tvar2=2\n",
    "\twhile var2<1000:\n",
    "\t\tprime=True\n",
    "\t\tfor i in range(2,var2):\n",
    "\t\t\tif var2%i==0:\n",
    "\t\t\t\tprime=False\n",
    "\t\t\t\tbreak   \n",
    "\t\tif prime ==True:\n",
    "\t\t\tyield var2\n",
    "\t\tvar2 += 1\n",
    "var4 = prime()\n",
    "for i in range(20):\n",
    "    print(next(var4))"
   ]
  },
  {
   "cell_type": "code",
   "execution_count": null,
   "metadata": {},
   "outputs": [],
   "source": [
    "#Write a python program to print the first 10 Fibonacci numbers using a while loop.\n",
    "a=1\n",
    "b=0\n",
    "while a<10:\n",
    "\tc=a+b\n",
    "\ta=b\n",
    "\tb=c\n",
    "\tprint(a)    "
   ]
  },
  {
   "cell_type": "code",
   "execution_count": null,
   "metadata": {},
   "outputs": [],
   "source": [
    "#Write a List Comprehension to iterate through the given string: ‘pwskills’.\n",
    "#Expected output: ['p', 'w', 's', 'k', 'i', 'l', 'l', 's']\n",
    "string = 'pwskills'\n",
    "[x for x in string]"
   ]
  },
  {
   "cell_type": "code",
   "execution_count": null,
   "metadata": {},
   "outputs": [],
   "source": [
    "#Write a python program to check whether a given number is Palindrome or not using a while loop.\n",
    "var1=int(input('enter'))\n",
    "temp=var1\n",
    "var2=0\n",
    "\n",
    "while temp!= 0:\n",
    "    var3=temp%10\n",
    "    var2=(var2*10)+var3\n",
    "    temp=temp//10\n",
    "if var1 == var2:\n",
    "    print('is')\n",
    "else:\n",
    "    print('isnot')"
   ]
  },
  {
   "cell_type": "code",
   "execution_count": null,
   "metadata": {},
   "outputs": [],
   "source": [
    "#Write a code to print odd numbers from 1 to 100 using list comprehension.\n",
    "var1=range(1,101)\n",
    "[x for x in var1 if x%2!=0]"
   ]
  }
 ],
 "metadata": {
  "kernelspec": {
   "display_name": "Python 3",
   "language": "python",
   "name": "python3"
  },
  "language_info": {
   "codemirror_mode": {
    "name": "ipython",
    "version": 3
   },
   "file_extension": ".py",
   "mimetype": "text/x-python",
   "name": "python",
   "nbconvert_exporter": "python",
   "pygments_lexer": "ipython3",
   "version": "3.9.1"
  }
 },
 "nbformat": 4,
 "nbformat_minor": 4
}
